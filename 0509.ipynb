{
  "nbformat": 4,
  "nbformat_minor": 0,
  "metadata": {
    "colab": {
      "name": "0509.ipynb",
      "provenance": [],
      "authorship_tag": "ABX9TyMEEaEqQbtJKVOiJ6PABUji",
      "include_colab_link": true
    },
    "kernelspec": {
      "name": "python3",
      "display_name": "Python 3"
    },
    "language_info": {
      "name": "python"
    }
  },
  "cells": [
    {
      "cell_type": "markdown",
      "metadata": {
        "id": "view-in-github",
        "colab_type": "text"
      },
      "source": [
        "<a href=\"https://colab.research.google.com/github/dereklon/introduction-to-computers/blob/main/0509.ipynb\" target=\"_parent\"><img src=\"https://colab.research.google.com/assets/colab-badge.svg\" alt=\"Open In Colab\"/></a>"
      ]
    },
    {
      "cell_type": "code",
      "source": [
        "print('123')"
      ],
      "metadata": {
        "colab": {
          "base_uri": "https://localhost:8080/"
        },
        "id": "3W_twmS8nts2",
        "outputId": "24d8531d-4142-4cb8-9011-c1c38f1162ba"
      },
      "execution_count": 15,
      "outputs": [
        {
          "output_type": "stream",
          "name": "stdout",
          "text": [
            "123\n"
          ]
        }
      ]
    },
    {
      "cell_type": "code",
      "source": [
        "temp=float(input('請輸入您的體溫'))\n",
        "if temp>=37.5:\n",
        "  print(\"體溫過高\")\n",
        "elif temp>=37 and temp<=37.4:\n",
        "  print('體溫略高') \n",
        "elif 34<=temp<=36.9:\n",
        "  print('體溫正常')\n",
        "else: \n",
        "  print('體溫異常，請重新測量')"
      ],
      "metadata": {
        "colab": {
          "base_uri": "https://localhost:8080/"
        },
        "id": "upj1B8F0nx6y",
        "outputId": "162584be-6230-4a35-9f19-f6377781bc51"
      },
      "execution_count": 17,
      "outputs": [
        {
          "output_type": "stream",
          "name": "stdout",
          "text": [
            "請輸入您的體溫34\n",
            "體溫正常\n"
          ]
        }
      ]
    },
    {
      "cell_type": "code",
      "source": [
        "score=int(input(\"請輸入成績:\"))\n",
        "if score>=90:\n",
        "  print('A')\n",
        "elif score>=80:\n",
        "  print('B')\n",
        "elif score>=70:\n",
        "  print('C')\n",
        "elif score>=60:\n",
        "  print('D')\n",
        "else:\n",
        "  print('E')"
      ],
      "metadata": {
        "colab": {
          "base_uri": "https://localhost:8080/"
        },
        "id": "CE7ElCmDp7Kb",
        "outputId": "a9ecce1b-23d3-4a69-e343-fc606e3df048"
      },
      "execution_count": 18,
      "outputs": [
        {
          "output_type": "stream",
          "name": "stdout",
          "text": [
            "請輸入成績:77\n",
            "C\n"
          ]
        }
      ]
    },
    {
      "cell_type": "code",
      "source": [
        "money=int(input('請輸入購物金額:'))\n",
        "if money>=10000:\n",
        "  if money>=100000:\n",
        "   print('八折',0.8*money,end='元\\n')\n",
        "  elif  money>=50000:\n",
        "      print('八五折',0.85*money,end='元\\n')\n",
        "  elif  money>=30000:\n",
        "      print('九折',0.9*money,end='元\\n') \n",
        "  else: \n",
        "      print('九五折',0.95*money,end='元\\n')\n",
        "else:\n",
        "  print('沒打折,',money,end='元\\n')   "
      ],
      "metadata": {
        "colab": {
          "base_uri": "https://localhost:8080/"
        },
        "id": "XWRN8zzfq3dg",
        "outputId": "beca4b11-0d67-4bc9-b221-9cf40d03acdd"
      },
      "execution_count": 22,
      "outputs": [
        {
          "output_type": "stream",
          "name": "stdout",
          "text": [
            "請輸入購物金額:50000\n",
            "八五折 42500.0元\n"
          ]
        }
      ]
    },
    {
      "cell_type": "code",
      "source": [
        "month=int(input(\"請輸入月份:\"))\n",
        "if month>=3:\n",
        "  if month>=9:\n",
        "   print(month,'月是秋天')\n",
        "  elif month>=6:\n",
        "   print(month,'月是夏天')\n",
        "  elif 12<=month<13 or 1<=month<=2:\n",
        "   print(month,'月是冬天')\n",
        "  else:\n",
        "     print(month,'月是春天') \n",
        "else:\n",
        " print('月份不在範圍內')"
      ],
      "metadata": {
        "colab": {
          "base_uri": "https://localhost:8080/"
        },
        "id": "EaP6iQnbt_WN",
        "outputId": "d7c132c1-3a4a-404a-f5ff-6f81e38e891b"
      },
      "execution_count": 42,
      "outputs": [
        {
          "output_type": "stream",
          "name": "stdout",
          "text": [
            "請輸入月份:7\n",
            "7 月是夏天\n"
          ]
        }
      ]
    },
    {
      "cell_type": "code",
      "source": [
        "income=int(input('請輸入今年收入'))\n",
        "if income>=300000:\n",
        "  if income>=600000:\n",
        "   print('賦稅金額:',0.13*income,'元')\n",
        "  elif income>=1000000:\n",
        "   print('賦稅金額:',0.21*income,'元')\n",
        "  elif income>=2000000:\n",
        "   print('賦稅金額:',0.3*income,'元')\n",
        "  print('賦稅金額:',0.06*income,'元') \n",
        "else:\n",
        "  print('賦稅金額:0元')"
      ],
      "metadata": {
        "colab": {
          "base_uri": "https://localhost:8080/"
        },
        "id": "Kwk_rQgQxyG1",
        "outputId": "d3b487bc-4504-4a69-81d1-3b9d7500aad4"
      },
      "execution_count": 45,
      "outputs": [
        {
          "output_type": "stream",
          "name": "stdout",
          "text": [
            "請輸入今年收入185000\n",
            "賦稅金額:0元\n"
          ]
        }
      ]
    }
  ]
}