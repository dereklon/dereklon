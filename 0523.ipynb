{
  "nbformat": 4,
  "nbformat_minor": 0,
  "metadata": {
    "colab": {
      "name": "0523.ipynb",
      "provenance": [],
      "authorship_tag": "ABX9TyNYoFGKZZArVkiOJEXWo9CS",
      "include_colab_link": true
    },
    "kernelspec": {
      "name": "python3",
      "display_name": "Python 3"
    },
    "language_info": {
      "name": "python"
    }
  },
  "cells": [
    {
      "cell_type": "markdown",
      "metadata": {
        "id": "view-in-github",
        "colab_type": "text"
      },
      "source": [
        "<a href=\"https://colab.research.google.com/github/dereklon/introduction-to-computers/blob/main/0523.ipynb\" target=\"_parent\"><img src=\"https://colab.research.google.com/assets/colab-badge.svg\" alt=\"Open In Colab\"/></a>"
      ]
    },
    {
      "cell_type": "code",
      "execution_count": null,
      "metadata": {
        "colab": {
          "base_uri": "https://localhost:8080/"
        },
        "id": "4foB05HA0h3p",
        "outputId": "2d22fb13-0c9b-4320-f543-6f9c4ff66dc7"
      },
      "outputs": [
        {
          "output_type": "stream",
          "name": "stdout",
          "text": [
            "1\n",
            "1 * 1 = 1\n",
            "1 * 2 = 2\n",
            "2\n",
            "2 * 1 = 2\n",
            "2 * 2 = 4\n",
            "3\n",
            "3 * 1 = 3\n",
            "3 * 2 = 6\n",
            "4\n",
            "4 * 1 = 4\n",
            "4 * 2 = 8\n"
          ]
        }
      ],
      "source": [
        "for j in range(1,5):\n",
        "  print(j)\n",
        "  for i in range(1,3):\n",
        "    k=i*j\n",
        "    print(j,\"*\",i,\"=\",k)"
      ]
    },
    {
      "cell_type": "code",
      "source": [
        "for j in range(1,10):\n",
        " print(j)\n",
        " for i in range(1,10):\n",
        "  k=i*j\n",
        "  print(j,\"*\",i,\"=\",k)"
      ],
      "metadata": {
        "colab": {
          "base_uri": "https://localhost:8080/"
        },
        "id": "7mPPdUH_5Tz0",
        "outputId": "f7c4120e-445d-484a-b686-d96da8c6a98a"
      },
      "execution_count": null,
      "outputs": [
        {
          "output_type": "stream",
          "name": "stdout",
          "text": [
            "1\n",
            "1 * 1 = 1\n",
            "1 * 2 = 2\n",
            "1 * 3 = 3\n",
            "1 * 4 = 4\n",
            "1 * 5 = 5\n",
            "1 * 6 = 6\n",
            "1 * 7 = 7\n",
            "1 * 8 = 8\n",
            "1 * 9 = 9\n",
            "2\n",
            "2 * 1 = 2\n",
            "2 * 2 = 4\n",
            "2 * 3 = 6\n",
            "2 * 4 = 8\n",
            "2 * 5 = 10\n",
            "2 * 6 = 12\n",
            "2 * 7 = 14\n",
            "2 * 8 = 16\n",
            "2 * 9 = 18\n",
            "3\n",
            "3 * 1 = 3\n",
            "3 * 2 = 6\n",
            "3 * 3 = 9\n",
            "3 * 4 = 12\n",
            "3 * 5 = 15\n",
            "3 * 6 = 18\n",
            "3 * 7 = 21\n",
            "3 * 8 = 24\n",
            "3 * 9 = 27\n",
            "4\n",
            "4 * 1 = 4\n",
            "4 * 2 = 8\n",
            "4 * 3 = 12\n",
            "4 * 4 = 16\n",
            "4 * 5 = 20\n",
            "4 * 6 = 24\n",
            "4 * 7 = 28\n",
            "4 * 8 = 32\n",
            "4 * 9 = 36\n",
            "5\n",
            "5 * 1 = 5\n",
            "5 * 2 = 10\n",
            "5 * 3 = 15\n",
            "5 * 4 = 20\n",
            "5 * 5 = 25\n",
            "5 * 6 = 30\n",
            "5 * 7 = 35\n",
            "5 * 8 = 40\n",
            "5 * 9 = 45\n",
            "6\n",
            "6 * 1 = 6\n",
            "6 * 2 = 12\n",
            "6 * 3 = 18\n",
            "6 * 4 = 24\n",
            "6 * 5 = 30\n",
            "6 * 6 = 36\n",
            "6 * 7 = 42\n",
            "6 * 8 = 48\n",
            "6 * 9 = 54\n",
            "7\n",
            "7 * 1 = 7\n",
            "7 * 2 = 14\n",
            "7 * 3 = 21\n",
            "7 * 4 = 28\n",
            "7 * 5 = 35\n",
            "7 * 6 = 42\n",
            "7 * 7 = 49\n",
            "7 * 8 = 56\n",
            "7 * 9 = 63\n",
            "8\n",
            "8 * 1 = 8\n",
            "8 * 2 = 16\n",
            "8 * 3 = 24\n",
            "8 * 4 = 32\n",
            "8 * 5 = 40\n",
            "8 * 6 = 48\n",
            "8 * 7 = 56\n",
            "8 * 8 = 64\n",
            "8 * 9 = 72\n",
            "9\n",
            "9 * 1 = 9\n",
            "9 * 2 = 18\n",
            "9 * 3 = 27\n",
            "9 * 4 = 36\n",
            "9 * 5 = 45\n",
            "9 * 6 = 54\n",
            "9 * 7 = 63\n",
            "9 * 8 = 72\n",
            "9 * 9 = 81\n"
          ]
        }
      ]
    },
    {
      "cell_type": "code",
      "source": [
        "for i in range(1,5):\n",
        "  if (i==4):\n",
        "   break\n",
        "  print(i,end=\" \")"
      ],
      "metadata": {
        "colab": {
          "base_uri": "https://localhost:8080/"
        },
        "id": "OECd9zj22UdH",
        "outputId": "c106c9a3-aff7-4099-fafc-8ff297eeb0d2"
      },
      "execution_count": null,
      "outputs": [
        {
          "output_type": "stream",
          "name": "stdout",
          "text": [
            "1 2 3 "
          ]
        }
      ]
    },
    {
      "cell_type": "code",
      "source": [
        "for i in range(1,5):\n",
        "  if (i==4):\n",
        "   continue\n",
        "  print(i,end=\" \")"
      ],
      "metadata": {
        "colab": {
          "base_uri": "https://localhost:8080/"
        },
        "id": "XBuv6n152tY-",
        "outputId": "ba4528d6-2757-4789-811b-f0d3f80fc92b"
      },
      "execution_count": null,
      "outputs": [
        {
          "output_type": "stream",
          "name": "stdout",
          "text": [
            "1 2 3 "
          ]
        }
      ]
    },
    {
      "cell_type": "code",
      "source": [
        "count=0\n",
        "for string in \"測試看看! \":\n",
        " count+=1\n",
        " if string==\" \":\n",
        "  break\n",
        " print(string)\n",
        "print(\"迴圈結束!\")\n",
        "print(\"迴圈一共執行了%d次\"%count)"
      ],
      "metadata": {
        "colab": {
          "base_uri": "https://localhost:8080/"
        },
        "id": "STtC70zO3sCQ",
        "outputId": "459e0a69-8827-48d9-8217-94d0a3ae8522"
      },
      "execution_count": null,
      "outputs": [
        {
          "output_type": "stream",
          "name": "stdout",
          "text": [
            "測\n",
            "試\n",
            "看\n",
            "看\n",
            "!\n",
            "迴圈結束!\n",
            "迴圈一共執行了6次\n"
          ]
        }
      ]
    },
    {
      "cell_type": "code",
      "source": [
        "count=0\n",
        "n=int(input('請輸入一個正整數: ' ))\n",
        "for i in range(1,n+1):\n",
        " count+=1 \n",
        " if i%5==0:\n",
        "  continue\n",
        " print(i)"
      ],
      "metadata": {
        "id": "cgBQUUG3A8PH",
        "colab": {
          "base_uri": "https://localhost:8080/"
        },
        "outputId": "b8623628-75c1-4fca-cf3d-381cfc788a47"
      },
      "execution_count": 76,
      "outputs": [
        {
          "output_type": "stream",
          "name": "stdout",
          "text": [
            "請輸入一個正整數: 21\n",
            "1\n",
            "2\n",
            "3\n",
            "4\n",
            "6\n",
            "7\n",
            "8\n",
            "9\n",
            "11\n",
            "12\n",
            "13\n",
            "14\n",
            "16\n",
            "17\n",
            "18\n",
            "19\n",
            "21\n"
          ]
        }
      ]
    },
    {
      "cell_type": "code",
      "source": [
        "a=int(input('請輸入一個正整數: '))\n",
        "b=int(input('請輸入另一個正整數: '))\n",
        "if  a>b:\n",
        "   c=a\n",
        "else:\n",
        "   c=b \n",
        "m=a*b+1\n",
        "for i in range(c,m):\n",
        "  if i%a==0 and i%b==0:\n",
        "    print(a,'跟',b,'的最小公倍數為',i)\n",
        "    break"
      ],
      "metadata": {
        "colab": {
          "base_uri": "https://localhost:8080/"
        },
        "id": "o6I38KQ6Tfn0",
        "outputId": "0fba6d1f-ce1c-4699-9ab5-e3d498c672c7"
      },
      "execution_count": 37,
      "outputs": [
        {
          "output_type": "stream",
          "name": "stdout",
          "text": [
            "請輸入一個正整數: 9\n",
            "請輸入另一個正整數: 15\n",
            "9 跟 15 的最小公倍數為 45\n"
          ]
        }
      ]
    }
  ]
}