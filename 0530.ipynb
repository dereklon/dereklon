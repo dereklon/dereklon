{
  "nbformat": 4,
  "nbformat_minor": 0,
  "metadata": {
    "colab": {
      "name": "0530.ipynb",
      "provenance": [],
      "authorship_tag": "ABX9TyPIh9pPEe85GaE4kNwjaAEE",
      "include_colab_link": true
    },
    "kernelspec": {
      "name": "python3",
      "display_name": "Python 3"
    },
    "language_info": {
      "name": "python"
    }
  },
  "cells": [
    {
      "cell_type": "markdown",
      "metadata": {
        "id": "view-in-github",
        "colab_type": "text"
      },
      "source": [
        "<a href=\"https://colab.research.google.com/github/dereklon/introduction-to-computers/blob/main/0530.ipynb\" target=\"_parent\"><img src=\"https://colab.research.google.com/assets/colab-badge.svg\" alt=\"Open In Colab\"/></a>"
      ]
    },
    {
      "cell_type": "code",
      "execution_count": null,
      "metadata": {
        "id": "rPX50RLqqzZe",
        "colab": {
          "base_uri": "https://localhost:8080/"
        },
        "outputId": "89a7afff-3cfe-4e89-9758-9ccc421456d6"
      },
      "outputs": [
        {
          "output_type": "stream",
          "name": "stdout",
          "text": [
            "2*2= 4 2*3= 6 2*4= 8 2*5=10 2*6=12 2*7=14 2*8=16 2*9=18 \n",
            "3*2= 6 3*3= 9 3*4=12 3*5=15 3*6=18 3*7=21 3*8=24 3*9=27 \n",
            "4*2= 8 4*3=12 4*4=16 4*5=20 4*6=24 4*7=28 4*8=32 4*9=36 \n",
            "5*2=10 5*3=15 5*4=20 5*5=25 5*6=30 5*7=35 5*8=40 5*9=45 \n",
            "6*2=12 6*3=18 6*4=24 6*5=30 6*6=36 6*7=42 6*8=48 6*9=54 \n",
            "7*2=14 7*3=21 7*4=28 7*5=35 7*6=42 7*7=49 7*8=56 7*9=63 \n",
            "8*2=16 8*3=24 8*4=32 8*5=40 8*6=48 8*7=56 8*8=64 8*9=72 \n",
            "9*2=18 9*3=27 9*4=36 9*5=45 9*6=54 9*7=63 9*8=72 9*9=81 \n"
          ]
        }
      ],
      "source": [
        "for i in range(2,10):\n",
        "  for j in range(2,10):\n",
        "    product=i*j\n",
        "    print(\"%d*%d=%2d\" %(i,j,product), end=\" \")\n",
        "  print()"
      ]
    },
    {
      "cell_type": "code",
      "source": [
        "a=int(input('請輸入a的值: '))\n",
        "b=int(input('請輸入b的值: '))\n",
        "maxno=a*b\n",
        "for i in range(1,maxno+1):\n",
        "  if(i%a==0 and i%b==0):\n",
        "    break\n",
        "print('%d和%d的最小公倍數=%d' %(a,b,i))"
      ],
      "metadata": {
        "colab": {
          "base_uri": "https://localhost:8080/"
        },
        "id": "JkKYtetUsSaE",
        "outputId": "8aef94ff-7207-4832-9108-4a25eae11d4b"
      },
      "execution_count": null,
      "outputs": [
        {
          "output_type": "stream",
          "name": "stdout",
          "text": [
            "請輸入a的值: 9\n",
            "請輸入b的值: 15\n",
            "9和15的最小公倍數=45\n"
          ]
        }
      ]
    },
    {
      "cell_type": "code",
      "source": [
        "n=int(input('請輸入正整數: '))\n",
        "for i in range(1,n+1):\n",
        "  if i%5==0:\n",
        "    continue\n",
        "  print(i,end=\", \")"
      ],
      "metadata": {
        "colab": {
          "base_uri": "https://localhost:8080/"
        },
        "id": "_7lA82ditJW3",
        "outputId": "1b7e37d6-1da1-440d-b1a4-0a7cd982c834"
      },
      "execution_count": null,
      "outputs": [
        {
          "output_type": "stream",
          "name": "stdout",
          "text": [
            "請輸入正整數: 21\n",
            "1, 2, 3, 4, 6, 7, 8, 9, 11, 12, 13, 14, 16, 17, 18, 19, 21, "
          ]
        }
      ]
    },
    {
      "cell_type": "code",
      "source": [
        "total=0\n",
        "while(total<=10):\n",
        "  total+=1\n",
        "print(total)"
      ],
      "metadata": {
        "colab": {
          "base_uri": "https://localhost:8080/"
        },
        "id": "8rYN-D_xt_LD",
        "outputId": "108a5b4f-f1e4-479a-b370-36f56ae8150f"
      },
      "execution_count": null,
      "outputs": [
        {
          "output_type": "stream",
          "name": "stdout",
          "text": [
            "11\n"
          ]
        }
      ]
    },
    {
      "cell_type": "markdown",
      "source": [
        "while"
      ],
      "metadata": {
        "id": "5A0TcZMiuB5i"
      }
    },
    {
      "cell_type": "code",
      "source": [
        "total=n=0\n",
        "while(n<=10):\n",
        "  total+=n\n",
        "  n+=1\n",
        "print(total)"
      ],
      "metadata": {
        "colab": {
          "base_uri": "https://localhost:8080/"
        },
        "id": "5jOmq5-KunuH",
        "outputId": "003cb960-30de-4622-8655-1c279000e7ed"
      },
      "execution_count": null,
      "outputs": [
        {
          "output_type": "stream",
          "name": "stdout",
          "text": [
            "55\n"
          ]
        }
      ]
    },
    {
      "cell_type": "markdown",
      "source": [
        "while 2"
      ],
      "metadata": {
        "id": "v4gOZuh1uov2"
      }
    },
    {
      "cell_type": "code",
      "source": [
        "total=i=1\n",
        "n=int(input('請輸入一個正整數:'))\n",
        "while(i<=n):\n",
        "  total*=i\n",
        "  i+=1\n",
        "print('%d!=%d'%(n,total))"
      ],
      "metadata": {
        "colab": {
          "base_uri": "https://localhost:8080/"
        },
        "id": "kg03qxuCvPNP",
        "outputId": "ac4dada2-f157-4ef9-ec65-8c9bfbf326e0"
      },
      "execution_count": null,
      "outputs": [
        {
          "output_type": "stream",
          "name": "stdout",
          "text": [
            "請輸入一個正整數:5\n",
            "5!=120\n"
          ]
        }
      ]
    },
    {
      "cell_type": "markdown",
      "source": [
        "while 階層\n",
        "*斜體文字*"
      ],
      "metadata": {
        "id": "n1gJbdUIvPmC"
      }
    },
    {
      "cell_type": "code",
      "source": [
        "num1=a=0\n",
        "num2=b=1\n",
        "n=int(input('請輸入一個正整數:'))\n",
        "while(a<=n and b<=n):\n",
        "  num1+=a\n",
        "  a+=2\n",
        "  num2+=b\n",
        "  b+=2\n",
        "print('%d的奇數和為%d,偶數合為%d',%(n,num1,num2))"
      ],
      "metadata": {
        "colab": {
          "base_uri": "https://localhost:8080/",
          "height": 132
        },
        "id": "Zl_jcJ-UwKGv",
        "outputId": "d1d51df4-ccea-431b-a9d1-ff27b0935db7"
      },
      "execution_count": null,
      "outputs": [
        {
          "output_type": "error",
          "ename": "SyntaxError",
          "evalue": "ignored",
          "traceback": [
            "\u001b[0;36m  File \u001b[0;32m\"<ipython-input-21-c7203f7238a5>\"\u001b[0;36m, line \u001b[0;32m9\u001b[0m\n\u001b[0;31m    print('%d的奇數和為%d,偶數合為%d',%(n,num1,num2))\u001b[0m\n\u001b[0m                             ^\u001b[0m\n\u001b[0;31mSyntaxError\u001b[0m\u001b[0;31m:\u001b[0m invalid syntax\n"
          ]
        }
      ]
    },
    {
      "cell_type": "markdown",
      "source": [
        "while 奇偶數和"
      ],
      "metadata": {
        "id": "8qYguShJwLkz"
      }
    },
    {
      "cell_type": "code",
      "source": [
        ""
      ],
      "metadata": {
        "id": "qwX496o1Q_c_"
      },
      "execution_count": null,
      "outputs": []
    },
    {
      "cell_type": "markdown",
      "source": [
        "倒三角"
      ],
      "metadata": {
        "id": "lyV9RJ5eRIb6"
      }
    },
    {
      "cell_type": "code",
      "source": [
        "total=n=0\n",
        "a=int(input('請輸入一個取範圍的數: '))\n",
        "b=int(input('請輸入一個數: '))\n",
        "c=int(input('請輸入一個數: '))\n"
      ],
      "metadata": {
        "id": "lD1Uk_tIRLHq"
      },
      "execution_count": null,
      "outputs": []
    },
    {
      "cell_type": "markdown",
      "source": [
        "倍數總和"
      ],
      "metadata": {
        "id": "qa9lbf3iRPRy"
      }
    },
    {
      "cell_type": "code",
      "source": [
        "total=n=0\n",
        "a=int(input('請輸入一個正整數: '))\n",
        "while total<=a:\n",
        " total+=n\n",
        " n+=1\n",
        " if a%total==0:\n",
        "   continue\n",
        "print('%d的因數為%d',(a,total))"
      ],
      "metadata": {
        "colab": {
          "base_uri": "https://localhost:8080/",
          "height": 150
        },
        "id": "hGQq8QLiRRo3",
        "outputId": "b2fcfc32-6a4d-4250-c56b-35fdb4c6f7df"
      },
      "execution_count": 7,
      "outputs": [
        {
          "name": "stdout",
          "output_type": "stream",
          "text": [
            "請輸入一個正整數: 15\n"
          ]
        },
        {
          "output_type": "error",
          "ename": "SyntaxError",
          "evalue": "ignored",
          "traceback": [
            "\u001b[0;36m  File \u001b[0;32m\"<ipython-input-7-bdd639353f4c>\"\u001b[0;36m, line \u001b[0;32m7\u001b[0m\n\u001b[0;31m    continue\u001b[0m\n\u001b[0m    ^\u001b[0m\n\u001b[0;31mSyntaxError\u001b[0m\u001b[0;31m:\u001b[0m 'continue' not properly in loop\n"
          ]
        }
      ]
    },
    {
      "cell_type": "markdown",
      "source": [
        "質數判斷\n"
      ],
      "metadata": {
        "id": "fhNDEzu9RT8u"
      }
    }
  ]
}